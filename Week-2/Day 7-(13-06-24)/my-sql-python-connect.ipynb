{
 "cells": [
  {
   "cell_type": "code",
   "execution_count": 100,
   "metadata": {},
   "outputs": [],
   "source": [
    "#pip install mysql-connector-python"
   ]
  },
  {
   "cell_type": "code",
   "execution_count": 101,
   "metadata": {},
   "outputs": [],
   "source": [
    "import mysql.connector\n",
    "from mysql.connector import Error\n",
    "import pandas as pd"
   ]
  },
  {
   "cell_type": "code",
   "execution_count": 102,
   "metadata": {},
   "outputs": [
    {
     "name": "stdout",
     "output_type": "stream",
     "text": [
      "MySql Database connection Successful\n"
     ]
    }
   ],
   "source": [
    "def create_server_connection(host_name,user_name,user_password):\n",
    "    connection=None\n",
    "    try :\n",
    "        connection=mysql.connector.connect(host=host_name,user=user_name,passwd=user_password)\n",
    "        print(\"MySql Database connection Successful\")\n",
    "    except Error as err:\n",
    "        print(f\"Error: '{err}\"\"\")\n",
    "    return connection\n",
    "#put your MySQL terminal password\n",
    "\n",
    "pw=\"neuralnexus@01\"\n",
    "#DataBase Name\n",
    "db=\"mysql_python\"\n",
    "connection=create_server_connection(\"127.0.0.1\",\"neuralnexus\",pw)"
   ]
  },
  {
   "cell_type": "code",
   "execution_count": 103,
   "metadata": {},
   "outputs": [
    {
     "name": "stdout",
     "output_type": "stream",
     "text": [
      "Error: '1007 (HY000): Can't create database 'mysql_python'; database exists'\n"
     ]
    }
   ],
   "source": [
    "#Create mysql_python\n",
    "\n",
    "def create_database(connection,query):\n",
    "    cursor=connection.cursor()\n",
    "    try:\n",
    "        cursor.execute(query)\n",
    "        print(\"Database create succefully\")\n",
    "    except Error as err:\n",
    "        print(f\"Error: '{err}'\")\n",
    "create_database_query=\"Create database mysql_python\"\n",
    "create_database(connection,create_database_query)\n"
   ]
  },
  {
   "cell_type": "code",
   "execution_count": 104,
   "metadata": {},
   "outputs": [],
   "source": [
    "#Connect to Database\n",
    "def create_db_connection(host_name,user_name,user_password,db_name):\n",
    "      connection=None\n",
    "      try:\n",
    "        connection=mysql.connector.connect(\n",
    "            host=host_name,\n",
    "            user=user_name,\n",
    "            passwd=user_password,\n",
    "            database=db_name\n",
    "        )\n",
    "        print(\"MySql Database Conenction Successful\")\n",
    "      except Error as err:\n",
    "        print(f\"Error: '{err}'\")\n",
    "      return connection\n",
    "\n"
   ]
  },
  {
   "cell_type": "code",
   "execution_count": 105,
   "metadata": {},
   "outputs": [],
   "source": [
    "def execute_query(conenction,query):\n",
    "    cursor=connection.cursor()\n",
    "    try:\n",
    "        cursor.execute(query)\n",
    "        connection.commit()\n",
    "        print(\"Query was succesful\")\n",
    "    except Error as err:\n",
    "        print(f\"Error: '{err}'\")"
   ]
  },
  {
   "cell_type": "code",
   "execution_count": 106,
   "metadata": {},
   "outputs": [
    {
     "name": "stdout",
     "output_type": "stream",
     "text": [
      "MySql Database Conenction Successful\n",
      "Error: '1050 (42S01): Table 'orders' already exists'\n"
     ]
    }
   ],
   "source": [
    "create_orders_table=\"\"\"\n",
    "create table orders(order_id int primary key,\n",
    "customer_name varchar(30) not null,\n",
    "product_name varchar(20) not null,\n",
    "date_ordered date,\n",
    "quantity int,\n",
    "unit_price float,\n",
    "phone_number varchar(20));\n",
    "\"\"\"\n",
    "#conenct to DB\n",
    "connection=create_db_connection(\"127.0.0.1\",\"neuralnexus\",pw,db)\n",
    "execute_query(connection,create_orders_table)"
   ]
  },
  {
   "cell_type": "code",
   "execution_count": 115,
   "metadata": {},
   "outputs": [
    {
     "name": "stdout",
     "output_type": "stream",
     "text": [
      "MySql Database Conenction Successful\n",
      "Error: '1050 (42S01): Table 'orders' already exists'\n"
     ]
    }
   ],
   "source": [
    "#droping table\n",
    "drop_orders_table=\"\"\"\n",
    "DROP TABLE IF EXISTS orders;\n",
    "\"\"\"\n",
    "#conenct to DB\n",
    "connection=create_db_connection(\"127.0.0.1\",\"neuralnexus\",pw,db)\n",
    "execute_query(connection,create_orders_table)"
   ]
  },
  {
   "cell_type": "code",
   "execution_count": 108,
   "metadata": {},
   "outputs": [
    {
     "name": "stdout",
     "output_type": "stream",
     "text": [
      "MySql Database Conenction Successful\n",
      "Error: '1062 (23000): Duplicate entry '101' for key 'orders.PRIMARY''\n"
     ]
    }
   ],
   "source": [
    "#insert Data\n",
    "data_orders=\"\"\"\n",
    "insert into orders value(101,\"Manish\",\"Laptop\",\"2018-06-02\",2,800,\"8952545225\")\n",
    "\"\"\"\n",
    "connection=create_db_connection(\"127.0.0.1\",\"neuralnexus\",pw,db)\n",
    "execute_query(connection,data_orders)"
   ]
  },
  {
   "cell_type": "code",
   "execution_count": 109,
   "metadata": {},
   "outputs": [],
   "source": [
    "def read_query(connection,query):#read query and dispkay result\n",
    "    cursor =connection.cursor()\n",
    "    result=None\n",
    "    try:\n",
    "        cursor.execute(query)\n",
    "        result=cursor.fetchall()\n",
    "        return result\n",
    "    except Error as err:\n",
    "        print(f\"Error: '{err}'\")"
   ]
  },
  {
   "cell_type": "code",
   "execution_count": 110,
   "metadata": {},
   "outputs": [
    {
     "name": "stdout",
     "output_type": "stream",
     "text": [
      "MySql Database Conenction Successful\n",
      "(101, 'Manish', 'Laptop', datetime.date(2018, 6, 2), 2, 800.0, '8952545225')\n"
     ]
    }
   ],
   "source": [
    "#using the select statement\n",
    "q1=\"\"\"select * from orders\"\"\"\n",
    "connection=create_db_connection(\"127.0.0.1\",\"neuralnexus\",pw,db)\n",
    "results=read_query(connection,q1)\n",
    "for result in results:\n",
    "    print(result)"
   ]
  },
  {
   "cell_type": "code",
   "execution_count": 111,
   "metadata": {},
   "outputs": [
    {
     "name": "stdout",
     "output_type": "stream",
     "text": [
      "MySql Database Conenction Successful\n",
      "(101, 'Manish', 'Laptop', datetime.date(2018, 6, 2), 2, 800.0, '8952545225')\n"
     ]
    }
   ],
   "source": [
    "q2=\"\"\"select customer_name,phone_number from orders\"\"\"\n",
    "connection=create_db_connection(\"127.0.0.1\",\"neuralnexus\",pw,db)\n",
    "results=read_query(connection,q1)\n",
    "for result in results:\n",
    "    print(result)"
   ]
  },
  {
   "cell_type": "code",
   "execution_count": 112,
   "metadata": {},
   "outputs": [
    {
     "name": "stdout",
     "output_type": "stream",
     "text": [
      "MySql Database Conenction Successful\n",
      "(101, 'Manish', 'Laptop', datetime.date(2018, 6, 2), 2, 800.0, '8952545225')\n"
     ]
    }
   ],
   "source": [
    "q3=\"\"\"select year(date_ordered) from orders\"\"\"\n",
    "connection=create_db_connection(\"127.0.0.1\",\"neuralnexus\",pw,db)\n",
    "results=read_query(connection,q1)\n",
    "for result in results:\n",
    "    print(result)"
   ]
  },
  {
   "cell_type": "code",
   "execution_count": 113,
   "metadata": {},
   "outputs": [
    {
     "name": "stdout",
     "output_type": "stream",
     "text": [
      "MySql Database Conenction Successful\n",
      "(101, 'Manish', 'Laptop', datetime.date(2018, 6, 2), 2, 800.0, '8952545225')\n"
     ]
    }
   ],
   "source": [
    "q4=\"\"\"select distinct year(date_ordered) from orders\"\"\"\n",
    "connection=create_db_connection(\"127.0.0.1\",\"neuralnexus\",pw,db)\n",
    "results=read_query(connection,q1)\n",
    "for result in results:\n",
    "    print(result)"
   ]
  },
  {
   "cell_type": "code",
   "execution_count": 114,
   "metadata": {},
   "outputs": [
    {
     "name": "stdout",
     "output_type": "stream",
     "text": [
      "MySql Database Conenction Successful\n",
      "(101, 'Manish', 'Laptop', datetime.date(2018, 6, 2), 2, 800.0, '8952545225')\n"
     ]
    }
   ],
   "source": [
    "q5=\"\"\"select * from orders\n",
    "where date_ordered < '2010-02-11'\n",
    "\"\"\"\n",
    "connection=create_db_connection(\"127.0.0.1\",\"neuralnexus\",pw,db)\n",
    "results=read_query(connection,q1)\n",
    "for result in results:\n",
    "    print(result)"
   ]
  },
  {
   "cell_type": "code",
   "execution_count": null,
   "metadata": {},
   "outputs": [],
   "source": []
  }
 ],
 "metadata": {
  "kernelspec": {
   "display_name": "base",
   "language": "python",
   "name": "python3"
  },
  "language_info": {
   "codemirror_mode": {
    "name": "ipython",
    "version": 3
   },
   "file_extension": ".py",
   "mimetype": "text/x-python",
   "name": "python",
   "nbconvert_exporter": "python",
   "pygments_lexer": "ipython3",
   "version": "3.11.4"
  }
 },
 "nbformat": 4,
 "nbformat_minor": 2
}
