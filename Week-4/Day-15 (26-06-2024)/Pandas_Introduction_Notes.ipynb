{
 "cells": [
  {
   "cell_type": "markdown",
   "id": "9561fab4",
   "metadata": {},
   "source": [
    "\n",
    "# Introduction to Pandas\n",
    "\n",
    "## Installing Pandas\n",
    "To install Pandas, use the following command:\n",
    "```python\n",
    "!pip install pandas\n",
    "```\n",
    "\n",
    "## Pandas Series\n",
    "- A one-dimensional labeled array capable of holding any data type.\n",
    "- Created using `pd.Series(data, index)`.\n",
    "- Data can be a list, dictionary, or scalar value.\n",
    "- Index is optional, defaulting to numeric range if not provided.\n",
    "- Useful methods:\n",
    "  - `head()` - Returns the first n rows of the series.\n",
    "  - `tail()` - Returns the last n rows of the series.\n",
    "  - `describe()` - Generates descriptive statistics.\n",
    "  - `dtype` - Returns the data type of the series.\n"
   ]
  }
 ],
 "metadata": {},
 "nbformat": 4,
 "nbformat_minor": 5
}
